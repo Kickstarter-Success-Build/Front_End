{
  "nbformat": 4,
  "nbformat_minor": 0,
  "metadata": {
    "colab": {
      "name": "10.19 EDA.ipynb",
      "provenance": [],
      "collapsed_sections": []
    },
    "kernelspec": {
      "name": "python3",
      "display_name": "Python 3"
    }
  },
  "cells": [
    {
      "cell_type": "markdown",
      "metadata": {
        "id": "Zwpz51xUnWt7"
      },
      "source": [
        "Live.csv contains live projects. This can still be used because some of the projects are funded currently under the percentage funded tab, where 100% represents full funding.\n",
        "\n",
        "most_backed.csv contains the top 4000 most backed projects ever on kickstarter, implying at least successful descriptions\n",
        "\n",
        "df_text_eng.csv contains just descriptions of projects and labeled with successful or failed\n",
        "\n",
        "data found here:\n",
        "\n",
        "https://www.kaggle.com/socathie/kickstarter-project-statistics?select=live.csv\n",
        "\n",
        "https://www.kaggle.com/oscarvilla/kickstarter-nlp"
      ]
    },
    {
      "cell_type": "code",
      "metadata": {
        "id": "74nFUox5nHNU"
      },
      "source": [
        "import pandas as pd\n",
        "import numpy as np\n",
        "\n",
        "try:\n",
        "  from pandas_profiling import ProfileReport\n",
        "except:\n",
        "  !pip install pandas-profiling==2.*\n",
        "  !pip install category_encoders==2.*\n",
        "  from pandas_profiling import ProfileReport\n",
        "import os"
      ],
      "execution_count": null,
      "outputs": []
    },
    {
      "cell_type": "markdown",
      "metadata": {
        "id": "5C_83vIJv1-V"
      },
      "source": [
        "Mount my drive so I can get local files. I will share the zip file with you so you can put it in your own drive or upload it directly"
      ]
    },
    {
      "cell_type": "code",
      "metadata": {
        "id": "g00Lr0aHqxVu",
        "outputId": "c2c7d865-7e4d-4d50-a3ef-a6b45ede4663",
        "colab": {
          "base_uri": "https://localhost:8080/",
          "height": 54
        }
      },
      "source": [
        "from google.colab import drive\n",
        "drive.mount(\"/content/drive\") "
      ],
      "execution_count": null,
      "outputs": [
        {
          "output_type": "stream",
          "text": [
            "Drive already mounted at /content/drive; to attempt to forcibly remount, call drive.mount(\"/content/drive\", force_remount=True).\n"
          ],
          "name": "stdout"
        }
      ]
    },
    {
      "cell_type": "code",
      "metadata": {
        "id": "9urRtykzsOht",
        "outputId": "507aee9b-4f91-4848-ce4b-38a96038a8b6",
        "colab": {
          "base_uri": "https://localhost:8080/",
          "height": 136
        }
      },
      "source": [
        "!unzip drive/My\\ Drive/Lambda/kickstarter/Data.zip"
      ],
      "execution_count": null,
      "outputs": [
        {
          "output_type": "stream",
          "text": [
            "Archive:  drive/My Drive/Lambda/kickstarter/Data.zip\n",
            "replace Data/df_text_eng.csv? [y]es, [n]o, [A]ll, [N]one, [r]ename: y\n",
            "  inflating: Data/df_text_eng.csv    \n",
            "replace Data/live.csv? [y]es, [n]o, [A]ll, [N]one, [r]ename: y\n",
            "  inflating: Data/live.csv           \n",
            "replace Data/most_backed.csv? [y]es, [n]o, [A]ll, [N]one, [r]ename: y\n",
            "  inflating: Data/most_backed.csv    \n"
          ],
          "name": "stdout"
        }
      ]
    },
    {
      "cell_type": "code",
      "metadata": {
        "id": "d6fZwrCoswPe",
        "outputId": "f59f8841-61e5-4a6a-bfa5-da02fcfb4054",
        "colab": {
          "base_uri": "https://localhost:8080/",
          "height": 391
        }
      },
      "source": [
        "# Get the three dataframes holding kickstarter data\n",
        "dfs = []\n",
        "for file in os.listdir('Data'):\n",
        "  dfs.append(pd.read_csv('Data/' + file, index_col=0))\n",
        "  print(dfs[-1].head())"
      ],
      "execution_count": null,
      "outputs": [
        {
          "output_type": "stream",
          "text": [
            "                                               blurb       state\n",
            "1  Using their own character, users go on educati...      failed\n",
            "2  MicroFly is a quadcopter packed with WiFi, 6 s...  successful\n",
            "3  A small indie press, run as a collective for a...      failed\n",
            "4  Zylor is a new baby cosplayer! Back this kicks...      failed\n",
            "5  Hatoful Boyfriend meet Skeletons! A comedy Dat...      failed\n",
            "   amt.pledged  ...                                                url\n",
            "0    8782571.0  ...                /projects/elanlee/exploding-kittens\n",
            "1    6465690.0  ...   /projects/antsylabs/fidget-cube-a-vinyl-desk-toy\n",
            "2    5408916.0  ...  /projects/readingrainbow/bring-reading-rainbow...\n",
            "3    5702153.0  ...  /projects/559914737/the-veronica-mars-movie-pr...\n",
            "4    3336371.0  ...         /projects/doublefine/double-fine-adventure\n",
            "\n",
            "[5 rows x 12 columns]\n",
            "   amt.pledged  ...                                                url\n",
            "0      15823.0  ...  /projects/1608905146/catalysts-explorers-and-s...\n",
            "1       6859.0  ...  /projects/thewhatamagump/the-whatamagump-a-han...\n",
            "2      17906.0  ...  /projects/1890925998/not-drunk-enough-volume-1...\n",
            "3      67081.0  ...  /projects/746734715/our-cats-are-more-famous-t...\n",
            "4      32772.0  ...  /projects/beaus/the-rwanda-craft-brewery-proje...\n",
            "\n",
            "[5 rows x 12 columns]\n"
          ],
          "name": "stdout"
        }
      ]
    },
    {
      "cell_type": "markdown",
      "metadata": {
        "id": "EeTmAl6-wKzy"
      },
      "source": [
        "Requires no cleaning, and since it only has 2 columns, this represents upper bound cardinality. In other words, since it only has the blurb column and the target column, we don't know the values of any other data that we could add"
      ]
    },
    {
      "cell_type": "code",
      "metadata": {
        "id": "lseV6CxXtjAM",
        "outputId": "7734303b-bb1e-439d-8be1-7b33cf6f4e65",
        "colab": {
          "base_uri": "https://localhost:8080/",
          "height": 204
        }
      },
      "source": [
        "dfs[0].head() "
      ],
      "execution_count": null,
      "outputs": [
        {
          "output_type": "execute_result",
          "data": {
            "text/html": [
              "<div>\n",
              "<style scoped>\n",
              "    .dataframe tbody tr th:only-of-type {\n",
              "        vertical-align: middle;\n",
              "    }\n",
              "\n",
              "    .dataframe tbody tr th {\n",
              "        vertical-align: top;\n",
              "    }\n",
              "\n",
              "    .dataframe thead th {\n",
              "        text-align: right;\n",
              "    }\n",
              "</style>\n",
              "<table border=\"1\" class=\"dataframe\">\n",
              "  <thead>\n",
              "    <tr style=\"text-align: right;\">\n",
              "      <th></th>\n",
              "      <th>blurb</th>\n",
              "      <th>state</th>\n",
              "    </tr>\n",
              "  </thead>\n",
              "  <tbody>\n",
              "    <tr>\n",
              "      <th>1</th>\n",
              "      <td>Using their own character, users go on educati...</td>\n",
              "      <td>failed</td>\n",
              "    </tr>\n",
              "    <tr>\n",
              "      <th>2</th>\n",
              "      <td>MicroFly is a quadcopter packed with WiFi, 6 s...</td>\n",
              "      <td>successful</td>\n",
              "    </tr>\n",
              "    <tr>\n",
              "      <th>3</th>\n",
              "      <td>A small indie press, run as a collective for a...</td>\n",
              "      <td>failed</td>\n",
              "    </tr>\n",
              "    <tr>\n",
              "      <th>4</th>\n",
              "      <td>Zylor is a new baby cosplayer! Back this kicks...</td>\n",
              "      <td>failed</td>\n",
              "    </tr>\n",
              "    <tr>\n",
              "      <th>5</th>\n",
              "      <td>Hatoful Boyfriend meet Skeletons! A comedy Dat...</td>\n",
              "      <td>failed</td>\n",
              "    </tr>\n",
              "  </tbody>\n",
              "</table>\n",
              "</div>"
            ],
            "text/plain": [
              "                                               blurb       state\n",
              "1  Using their own character, users go on educati...      failed\n",
              "2  MicroFly is a quadcopter packed with WiFi, 6 s...  successful\n",
              "3  A small indie press, run as a collective for a...      failed\n",
              "4  Zylor is a new baby cosplayer! Back this kicks...      failed\n",
              "5  Hatoful Boyfriend meet Skeletons! A comedy Dat...      failed"
            ]
          },
          "metadata": {
            "tags": []
          },
          "execution_count": 11
        }
      ]
    },
    {
      "cell_type": "markdown",
      "metadata": {
        "id": "ZAS8HWK2wTwr"
      },
      "source": [
        "This will require cleaning, since it contains the blurb column, but no direct 'state' column. We infer the state column by stating that any project which is funded in an amount greater than or equal to the 'percentage.funded' column is successful, while all others have failed."
      ]
    },
    {
      "cell_type": "code",
      "metadata": {
        "id": "Hu4JBU5Ttn8h",
        "outputId": "dff310d9-44a3-4d7d-c366-0008b848395f",
        "colab": {
          "base_uri": "https://localhost:8080/",
          "height": 598
        }
      },
      "source": [
        "dfs[1].head()"
      ],
      "execution_count": null,
      "outputs": [
        {
          "output_type": "execute_result",
          "data": {
            "text/html": [
              "<div>\n",
              "<style scoped>\n",
              "    .dataframe tbody tr th:only-of-type {\n",
              "        vertical-align: middle;\n",
              "    }\n",
              "\n",
              "    .dataframe tbody tr th {\n",
              "        vertical-align: top;\n",
              "    }\n",
              "\n",
              "    .dataframe thead th {\n",
              "        text-align: right;\n",
              "    }\n",
              "</style>\n",
              "<table border=\"1\" class=\"dataframe\">\n",
              "  <thead>\n",
              "    <tr style=\"text-align: right;\">\n",
              "      <th></th>\n",
              "      <th>amt.pledged</th>\n",
              "      <th>blurb</th>\n",
              "      <th>by</th>\n",
              "      <th>category</th>\n",
              "      <th>currency</th>\n",
              "      <th>goal</th>\n",
              "      <th>location</th>\n",
              "      <th>num.backers</th>\n",
              "      <th>num.backers.tier</th>\n",
              "      <th>pledge.tier</th>\n",
              "      <th>title</th>\n",
              "      <th>url</th>\n",
              "    </tr>\n",
              "  </thead>\n",
              "  <tbody>\n",
              "    <tr>\n",
              "      <th>0</th>\n",
              "      <td>8782571.0</td>\n",
              "      <td>\\nThis is a card game for people who are into ...</td>\n",
              "      <td>Elan Lee</td>\n",
              "      <td>Tabletop Games</td>\n",
              "      <td>usd</td>\n",
              "      <td>10000.0</td>\n",
              "      <td>Los Angeles, CA</td>\n",
              "      <td>219382</td>\n",
              "      <td>[15505, 202934, 200, 5]</td>\n",
              "      <td>[20.0, 35.0, 100.0, 500.0]</td>\n",
              "      <td>Exploding Kittens</td>\n",
              "      <td>/projects/elanlee/exploding-kittens</td>\n",
              "    </tr>\n",
              "    <tr>\n",
              "      <th>1</th>\n",
              "      <td>6465690.0</td>\n",
              "      <td>\\nAn unusually addicting, high-quality desk to...</td>\n",
              "      <td>Matthew and Mark McLachlan</td>\n",
              "      <td>Product Design</td>\n",
              "      <td>usd</td>\n",
              "      <td>15000.0</td>\n",
              "      <td>Denver, CO</td>\n",
              "      <td>154926</td>\n",
              "      <td>[788, 250, 43073, 21796, 41727, 21627, 12215, ...</td>\n",
              "      <td>[1.0, 14.0, 19.0, 19.0, 35.0, 35.0, 79.0, 79.0...</td>\n",
              "      <td>Fidget Cube: A Vinyl Desk Toy</td>\n",
              "      <td>/projects/antsylabs/fidget-cube-a-vinyl-desk-toy</td>\n",
              "    </tr>\n",
              "    <tr>\n",
              "      <th>2</th>\n",
              "      <td>5408916.0</td>\n",
              "      <td>\\nBring Reading Rainbow’s library of interacti...</td>\n",
              "      <td>LeVar Burton &amp; Reading Rainbow</td>\n",
              "      <td>Web</td>\n",
              "      <td>usd</td>\n",
              "      <td>1000000.0</td>\n",
              "      <td>Los Angeles, CA</td>\n",
              "      <td>105857</td>\n",
              "      <td>[19639, 14343, 9136, 2259, 5666, 24512, 4957, ...</td>\n",
              "      <td>[5.0, 10.0, 25.0, 30.0, 35.0, 50.0, 75.0, 100....</td>\n",
              "      <td>Bring Reading Rainbow Back for Every Child, Ev...</td>\n",
              "      <td>/projects/readingrainbow/bring-reading-rainbow...</td>\n",
              "    </tr>\n",
              "    <tr>\n",
              "      <th>3</th>\n",
              "      <td>5702153.0</td>\n",
              "      <td>\\nUPDATED: This is it. We're making a Veronica...</td>\n",
              "      <td>Rob Thomas</td>\n",
              "      <td>Narrative Film</td>\n",
              "      <td>usd</td>\n",
              "      <td>2000000.0</td>\n",
              "      <td>San Diego, CA</td>\n",
              "      <td>91585</td>\n",
              "      <td>[5938, 8423, 11509, 22997, 23227, 1865, 7260, ...</td>\n",
              "      <td>[1.0, 10.0, 25.0, 35.0, 50.0, 75.0, 100.0, 150...</td>\n",
              "      <td>The Veronica Mars Movie Project</td>\n",
              "      <td>/projects/559914737/the-veronica-mars-movie-pr...</td>\n",
              "    </tr>\n",
              "    <tr>\n",
              "      <th>4</th>\n",
              "      <td>3336371.0</td>\n",
              "      <td>\\nAn adventure game from Tim Schafer, Double F...</td>\n",
              "      <td>Double Fine and 2 Player Productions</td>\n",
              "      <td>Video Games</td>\n",
              "      <td>usd</td>\n",
              "      <td>400000.0</td>\n",
              "      <td>San Francisco, CA</td>\n",
              "      <td>87142</td>\n",
              "      <td>[47946, 24636, 1090, 11530, 900, 148, 100, 10, 4]</td>\n",
              "      <td>[15.0, 30.0, 60.0, 100.0, 250.0, 500.0, 1000.0...</td>\n",
              "      <td>Double Fine Adventure</td>\n",
              "      <td>/projects/doublefine/double-fine-adventure</td>\n",
              "    </tr>\n",
              "  </tbody>\n",
              "</table>\n",
              "</div>"
            ],
            "text/plain": [
              "   amt.pledged  ...                                                url\n",
              "0    8782571.0  ...                /projects/elanlee/exploding-kittens\n",
              "1    6465690.0  ...   /projects/antsylabs/fidget-cube-a-vinyl-desk-toy\n",
              "2    5408916.0  ...  /projects/readingrainbow/bring-reading-rainbow...\n",
              "3    5702153.0  ...  /projects/559914737/the-veronica-mars-movie-pr...\n",
              "4    3336371.0  ...         /projects/doublefine/double-fine-adventure\n",
              "\n",
              "[5 rows x 12 columns]"
            ]
          },
          "metadata": {
            "tags": []
          },
          "execution_count": 12
        }
      ]
    },
    {
      "cell_type": "code",
      "metadata": {
        "id": "3eWcrxh0t9af",
        "outputId": "61be648f-cf68-4b19-9b6d-0667e2735dae",
        "colab": {
          "base_uri": "https://localhost:8080/",
          "height": 340
        }
      },
      "source": [
        "dfs[1] = dfs[1][['blurb', 'percentage.funded']]\n",
        "dfs[1].head(2)"
      ],
      "execution_count": null,
      "outputs": [
        {
          "output_type": "error",
          "ename": "KeyError",
          "evalue": "ignored",
          "traceback": [
            "\u001b[0;31m---------------------------------------------------------------------------\u001b[0m",
            "\u001b[0;31mKeyError\u001b[0m                                  Traceback (most recent call last)",
            "\u001b[0;32m<ipython-input-13-cc35e30063aa>\u001b[0m in \u001b[0;36m<module>\u001b[0;34m()\u001b[0m\n\u001b[0;32m----> 1\u001b[0;31m \u001b[0mdfs\u001b[0m\u001b[0;34m[\u001b[0m\u001b[0;36m1\u001b[0m\u001b[0;34m]\u001b[0m \u001b[0;34m=\u001b[0m \u001b[0mdfs\u001b[0m\u001b[0;34m[\u001b[0m\u001b[0;36m1\u001b[0m\u001b[0;34m]\u001b[0m\u001b[0;34m[\u001b[0m\u001b[0;34m[\u001b[0m\u001b[0;34m'blurb'\u001b[0m\u001b[0;34m,\u001b[0m \u001b[0;34m'percentage.funded'\u001b[0m\u001b[0;34m]\u001b[0m\u001b[0;34m]\u001b[0m\u001b[0;34m\u001b[0m\u001b[0;34m\u001b[0m\u001b[0m\n\u001b[0m\u001b[1;32m      2\u001b[0m \u001b[0mdfs\u001b[0m\u001b[0;34m[\u001b[0m\u001b[0;36m1\u001b[0m\u001b[0;34m]\u001b[0m\u001b[0;34m.\u001b[0m\u001b[0mhead\u001b[0m\u001b[0;34m(\u001b[0m\u001b[0;36m2\u001b[0m\u001b[0;34m)\u001b[0m\u001b[0;34m\u001b[0m\u001b[0;34m\u001b[0m\u001b[0m\n",
            "\u001b[0;32m/usr/local/lib/python3.6/dist-packages/pandas/core/frame.py\u001b[0m in \u001b[0;36m__getitem__\u001b[0;34m(self, key)\u001b[0m\n\u001b[1;32m   2906\u001b[0m             \u001b[0;32mif\u001b[0m \u001b[0mis_iterator\u001b[0m\u001b[0;34m(\u001b[0m\u001b[0mkey\u001b[0m\u001b[0;34m)\u001b[0m\u001b[0;34m:\u001b[0m\u001b[0;34m\u001b[0m\u001b[0;34m\u001b[0m\u001b[0m\n\u001b[1;32m   2907\u001b[0m                 \u001b[0mkey\u001b[0m \u001b[0;34m=\u001b[0m \u001b[0mlist\u001b[0m\u001b[0;34m(\u001b[0m\u001b[0mkey\u001b[0m\u001b[0;34m)\u001b[0m\u001b[0;34m\u001b[0m\u001b[0;34m\u001b[0m\u001b[0m\n\u001b[0;32m-> 2908\u001b[0;31m             \u001b[0mindexer\u001b[0m \u001b[0;34m=\u001b[0m \u001b[0mself\u001b[0m\u001b[0;34m.\u001b[0m\u001b[0mloc\u001b[0m\u001b[0;34m.\u001b[0m\u001b[0m_get_listlike_indexer\u001b[0m\u001b[0;34m(\u001b[0m\u001b[0mkey\u001b[0m\u001b[0;34m,\u001b[0m \u001b[0maxis\u001b[0m\u001b[0;34m=\u001b[0m\u001b[0;36m1\u001b[0m\u001b[0;34m,\u001b[0m \u001b[0mraise_missing\u001b[0m\u001b[0;34m=\u001b[0m\u001b[0;32mTrue\u001b[0m\u001b[0;34m)\u001b[0m\u001b[0;34m[\u001b[0m\u001b[0;36m1\u001b[0m\u001b[0;34m]\u001b[0m\u001b[0;34m\u001b[0m\u001b[0;34m\u001b[0m\u001b[0m\n\u001b[0m\u001b[1;32m   2909\u001b[0m \u001b[0;34m\u001b[0m\u001b[0m\n\u001b[1;32m   2910\u001b[0m         \u001b[0;31m# take() does not accept boolean indexers\u001b[0m\u001b[0;34m\u001b[0m\u001b[0;34m\u001b[0m\u001b[0;34m\u001b[0m\u001b[0m\n",
            "\u001b[0;32m/usr/local/lib/python3.6/dist-packages/pandas/core/indexing.py\u001b[0m in \u001b[0;36m_get_listlike_indexer\u001b[0;34m(self, key, axis, raise_missing)\u001b[0m\n\u001b[1;32m   1252\u001b[0m             \u001b[0mkeyarr\u001b[0m\u001b[0;34m,\u001b[0m \u001b[0mindexer\u001b[0m\u001b[0;34m,\u001b[0m \u001b[0mnew_indexer\u001b[0m \u001b[0;34m=\u001b[0m \u001b[0max\u001b[0m\u001b[0;34m.\u001b[0m\u001b[0m_reindex_non_unique\u001b[0m\u001b[0;34m(\u001b[0m\u001b[0mkeyarr\u001b[0m\u001b[0;34m)\u001b[0m\u001b[0;34m\u001b[0m\u001b[0;34m\u001b[0m\u001b[0m\n\u001b[1;32m   1253\u001b[0m \u001b[0;34m\u001b[0m\u001b[0m\n\u001b[0;32m-> 1254\u001b[0;31m         \u001b[0mself\u001b[0m\u001b[0;34m.\u001b[0m\u001b[0m_validate_read_indexer\u001b[0m\u001b[0;34m(\u001b[0m\u001b[0mkeyarr\u001b[0m\u001b[0;34m,\u001b[0m \u001b[0mindexer\u001b[0m\u001b[0;34m,\u001b[0m \u001b[0maxis\u001b[0m\u001b[0;34m,\u001b[0m \u001b[0mraise_missing\u001b[0m\u001b[0;34m=\u001b[0m\u001b[0mraise_missing\u001b[0m\u001b[0;34m)\u001b[0m\u001b[0;34m\u001b[0m\u001b[0;34m\u001b[0m\u001b[0m\n\u001b[0m\u001b[1;32m   1255\u001b[0m         \u001b[0;32mreturn\u001b[0m \u001b[0mkeyarr\u001b[0m\u001b[0;34m,\u001b[0m \u001b[0mindexer\u001b[0m\u001b[0;34m\u001b[0m\u001b[0;34m\u001b[0m\u001b[0m\n\u001b[1;32m   1256\u001b[0m \u001b[0;34m\u001b[0m\u001b[0m\n",
            "\u001b[0;32m/usr/local/lib/python3.6/dist-packages/pandas/core/indexing.py\u001b[0m in \u001b[0;36m_validate_read_indexer\u001b[0;34m(self, key, indexer, axis, raise_missing)\u001b[0m\n\u001b[1;32m   1302\u001b[0m             \u001b[0;32mif\u001b[0m \u001b[0mraise_missing\u001b[0m\u001b[0;34m:\u001b[0m\u001b[0;34m\u001b[0m\u001b[0;34m\u001b[0m\u001b[0m\n\u001b[1;32m   1303\u001b[0m                 \u001b[0mnot_found\u001b[0m \u001b[0;34m=\u001b[0m \u001b[0mlist\u001b[0m\u001b[0;34m(\u001b[0m\u001b[0mset\u001b[0m\u001b[0;34m(\u001b[0m\u001b[0mkey\u001b[0m\u001b[0;34m)\u001b[0m \u001b[0;34m-\u001b[0m \u001b[0mset\u001b[0m\u001b[0;34m(\u001b[0m\u001b[0max\u001b[0m\u001b[0;34m)\u001b[0m\u001b[0;34m)\u001b[0m\u001b[0;34m\u001b[0m\u001b[0;34m\u001b[0m\u001b[0m\n\u001b[0;32m-> 1304\u001b[0;31m                 \u001b[0;32mraise\u001b[0m \u001b[0mKeyError\u001b[0m\u001b[0;34m(\u001b[0m\u001b[0;34mf\"{not_found} not in index\"\u001b[0m\u001b[0;34m)\u001b[0m\u001b[0;34m\u001b[0m\u001b[0;34m\u001b[0m\u001b[0m\n\u001b[0m\u001b[1;32m   1305\u001b[0m \u001b[0;34m\u001b[0m\u001b[0m\n\u001b[1;32m   1306\u001b[0m             \u001b[0;31m# we skip the warning on Categorical\u001b[0m\u001b[0;34m\u001b[0m\u001b[0;34m\u001b[0m\u001b[0;34m\u001b[0m\u001b[0m\n",
            "\u001b[0;31mKeyError\u001b[0m: \"['percentage.funded'] not in index\""
          ]
        }
      ]
    },
    {
      "cell_type": "code",
      "metadata": {
        "id": "Rb2QhksRupvK"
      },
      "source": [
        "dfs[1]['state'] = np.where(dfs[1]['percentage.funded']>=100, 'successful', 'failed')\n",
        "dfs[1].drop(columns = ['percentage.funded'], inplace=True)\n",
        "dfs[1].head()"
      ],
      "execution_count": null,
      "outputs": []
    },
    {
      "cell_type": "markdown",
      "metadata": {
        "id": "rnLIOqN2wrkj"
      },
      "source": [
        "For this column, we have the goal amount of money, along with the amount of money pledged. We infer the state column by saying that any row which contains an amount pledged greater than or equal to the goal is successful while all others have failed. However, note that this is the dataframe for the top 4000 most successful kickstarters, and all of them exceeded their goal by a large amount.\n"
      ]
    },
    {
      "cell_type": "code",
      "metadata": {
        "id": "Fq2wKYG-tpmU"
      },
      "source": [
        "dfs[2].head()"
      ],
      "execution_count": null,
      "outputs": []
    },
    {
      "cell_type": "code",
      "metadata": {
        "id": "RZzCVKhTuL5P"
      },
      "source": [
        "dfs[2] = dfs[2][['blurb', 'amt.pledged', 'goal']]\n",
        "dfs[2].head(2)"
      ],
      "execution_count": null,
      "outputs": []
    },
    {
      "cell_type": "code",
      "metadata": {
        "id": "mIrDAQ0FsoYk"
      },
      "source": [
        "# This df only contains successes\n",
        "dfs[2]['state'] = ['successful'] * len(dfs[2]) \n",
        "dfs[2].drop(columns=['amt.pledged', 'goal'], inplace=True)\n",
        "dfs[2].head()"
      ],
      "execution_count": null,
      "outputs": []
    },
    {
      "cell_type": "code",
      "metadata": {
        "id": "0k_g0RZZvo3P"
      },
      "source": [
        "df = pd.concat(dfs, ignore_index=True)\n",
        "df.head(20)"
      ],
      "execution_count": null,
      "outputs": []
    },
    {
      "cell_type": "code",
      "metadata": {
        "id": "-d-hSJvc4OxT"
      },
      "source": [
        "df.info()"
      ],
      "execution_count": null,
      "outputs": []
    },
    {
      "cell_type": "code",
      "metadata": {
        "id": "Iqh5lzbTvjuy"
      },
      "source": [
        "df.describe()"
      ],
      "execution_count": null,
      "outputs": []
    },
    {
      "cell_type": "markdown",
      "metadata": {
        "id": "ModmOrHixLfa"
      },
      "source": [
        "The dataframes contain some null and duplicate values, so we drop any row containing any amount of either duplicate or null values"
      ]
    },
    {
      "cell_type": "code",
      "metadata": {
        "id": "R2-NOfEORpXx",
        "outputId": "635e4cbc-34a3-486b-ebdc-b3ba44b3f6f4",
        "colab": {
          "base_uri": "https://localhost:8080/",
          "height": 163
        }
      },
      "source": [
        "df[len(df.blurb) < 10]"
      ],
      "execution_count": null,
      "outputs": [
        {
          "output_type": "error",
          "ename": "NameError",
          "evalue": "ignored",
          "traceback": [
            "\u001b[0;31m---------------------------------------------------------------------------\u001b[0m",
            "\u001b[0;31mNameError\u001b[0m                                 Traceback (most recent call last)",
            "\u001b[0;32m<ipython-input-6-a7a94c590758>\u001b[0m in \u001b[0;36m<module>\u001b[0;34m()\u001b[0m\n\u001b[0;32m----> 1\u001b[0;31m \u001b[0mdf\u001b[0m\u001b[0;34m[\u001b[0m\u001b[0mlen\u001b[0m\u001b[0;34m(\u001b[0m\u001b[0mdf\u001b[0m\u001b[0;34m.\u001b[0m\u001b[0mblurb\u001b[0m\u001b[0;34m)\u001b[0m \u001b[0;34m<\u001b[0m \u001b[0;36m10\u001b[0m\u001b[0;34m]\u001b[0m\u001b[0;34m\u001b[0m\u001b[0;34m\u001b[0m\u001b[0m\n\u001b[0m",
            "\u001b[0;31mNameError\u001b[0m: name 'df' is not defined"
          ]
        }
      ]
    },
    {
      "cell_type": "code",
      "metadata": {
        "id": "JSMEOVCxwtSm"
      },
      "source": [
        "df.drop_duplicates(inplace=True)\n",
        "df.dropna(inplace=True)\n",
        "df.to_csv('kickstarter.csv')"
      ],
      "execution_count": null,
      "outputs": []
    },
    {
      "cell_type": "code",
      "metadata": {
        "id": "T2NFOaiqxHB7",
        "outputId": "5191cf67-02e7-419f-b9f9-82059ab463d5",
        "colab": {
          "base_uri": "https://localhost:8080/",
          "height": 204
        }
      },
      "source": [
        "new = pd.read_csv('kickstarter.csv', index_col=0)\n",
        "new.head()"
      ],
      "execution_count": null,
      "outputs": [
        {
          "output_type": "execute_result",
          "data": {
            "text/html": [
              "<div>\n",
              "<style scoped>\n",
              "    .dataframe tbody tr th:only-of-type {\n",
              "        vertical-align: middle;\n",
              "    }\n",
              "\n",
              "    .dataframe tbody tr th {\n",
              "        vertical-align: top;\n",
              "    }\n",
              "\n",
              "    .dataframe thead th {\n",
              "        text-align: right;\n",
              "    }\n",
              "</style>\n",
              "<table border=\"1\" class=\"dataframe\">\n",
              "  <thead>\n",
              "    <tr style=\"text-align: right;\">\n",
              "      <th></th>\n",
              "      <th>blurb</th>\n",
              "      <th>state</th>\n",
              "    </tr>\n",
              "  </thead>\n",
              "  <tbody>\n",
              "    <tr>\n",
              "      <th>0</th>\n",
              "      <td>Using their own character, users go on educati...</td>\n",
              "      <td>failed</td>\n",
              "    </tr>\n",
              "    <tr>\n",
              "      <th>1</th>\n",
              "      <td>MicroFly is a quadcopter packed with WiFi, 6 s...</td>\n",
              "      <td>successful</td>\n",
              "    </tr>\n",
              "    <tr>\n",
              "      <th>2</th>\n",
              "      <td>A small indie press, run as a collective for a...</td>\n",
              "      <td>failed</td>\n",
              "    </tr>\n",
              "    <tr>\n",
              "      <th>3</th>\n",
              "      <td>Zylor is a new baby cosplayer! Back this kicks...</td>\n",
              "      <td>failed</td>\n",
              "    </tr>\n",
              "    <tr>\n",
              "      <th>4</th>\n",
              "      <td>Hatoful Boyfriend meet Skeletons! A comedy Dat...</td>\n",
              "      <td>failed</td>\n",
              "    </tr>\n",
              "  </tbody>\n",
              "</table>\n",
              "</div>"
            ],
            "text/plain": [
              "                                               blurb       state\n",
              "0  Using their own character, users go on educati...      failed\n",
              "1  MicroFly is a quadcopter packed with WiFi, 6 s...  successful\n",
              "2  A small indie press, run as a collective for a...      failed\n",
              "3  Zylor is a new baby cosplayer! Back this kicks...      failed\n",
              "4  Hatoful Boyfriend meet Skeletons! A comedy Dat...      failed"
            ]
          },
          "metadata": {
            "tags": []
          },
          "execution_count": 39
        }
      ]
    }
  ]
}