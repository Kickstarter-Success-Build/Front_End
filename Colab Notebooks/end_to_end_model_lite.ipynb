{
  "nbformat": 4,
  "nbformat_minor": 0,
  "metadata": {
    "colab": {
      "name": "Untitled6.ipynb",
      "provenance": [],
      "collapsed_sections": []
    },
    "kernelspec": {
      "name": "python3",
      "display_name": "Python 3"
    }
  },
  "cells": [
    {
      "cell_type": "code",
      "metadata": {
        "id": "AMykvS3cQpNJ"
      },
      "source": [
        "import numpy as np\n",
        "import pandas as pd\n",
        "import tensorflow as tf\n",
        "from tensorflow import keras\n",
        "import os\n",
        "from tensorflow.keras.layers.experimental.preprocessing import TextVectorization\n",
        "import string\n",
        "import re\n",
        "from tensorflow.keras import layers"
      ],
      "execution_count": null,
      "outputs": []
    },
    {
      "cell_type": "code",
      "metadata": {
        "id": "jCEJuPRBQmlr"
      },
      "source": [
        "def create_end_to_end_model(weights_path = 'xtreme_lite_weights_text.h5'):\n",
        "  max_features = 20000\n",
        "  embedding_dim = 128\n",
        "  sequence_length = 1000\n",
        "  def create_model():\n",
        "    # A integer input for vocab indices.\n",
        "    inputs = tf.keras.Input(shape=(None,), dtype=\"int64\")\n",
        "\n",
        "    # Next, we add a layer to map those vocab indices into a space of dimensionality\n",
        "    # 'embedding_dim'.\n",
        "    x = layers.Embedding(max_features, embedding_dim)(inputs)\n",
        "\n",
        "    # # Conv1D + global max pooling\n",
        "    x = layers.Conv1D(128, 7, padding=\"same\", activation=\"relu\", strides=3)(x)\n",
        "    x = layers.GlobalMaxPooling1D()(x)\n",
        "\n",
        "    # # # We add a vanilla hidden layer:\n",
        "    # x = layers.Dense(128, activation=\"relu\")(x)\n",
        "    # x = layers.Dropout(0.5)(x)\n",
        "\n",
        "    # We project onto a single unit output layer, and squash it with a sigmoid:\n",
        "    predictions = layers.Dense(1, activation=\"sigmoid\", name=\"predictions\")(x)\n",
        "\n",
        "    model = tf.keras.Model(inputs, predictions)\n",
        "\n",
        "    # Compile the model with binary crossentropy loss and an adam optimizer.\n",
        "    model.compile(loss=\"binary_crossentropy\", optimizer=\"adam\", metrics=[\"accuracy\"])\n",
        "    return model\n",
        "\n",
        "  def vectorize_text(text, label):\n",
        "    text = tf.expand_dims(text, -1)\n",
        "    return vectorize_layer(text), label\n",
        "\n",
        "  def custom_standardization(input_data):\n",
        "    lowercase = tf.strings.lower(input_data)\n",
        "    return tf.strings.regex_replace(\n",
        "        lowercase, \"[%s]\" % re.escape(string.punctuation), \"\")\n",
        "  \n",
        "  model = create_model()\n",
        "  model.load_weights(weights_path)\n",
        "  vectorize_layer = TextVectorization(\n",
        "    standardize=custom_standardization,\n",
        "    max_tokens=max_features,\n",
        "    output_mode=\"int\",\n",
        "    output_sequence_length=sequence_length,)\n",
        "  inputs = tf.keras.Input(shape=(1,), dtype=\"string\")\n",
        "  # Turn strings into vocab indices\n",
        "  indices = vectorize_layer(inputs)\n",
        "  # Turn vocab indices into predictions\n",
        "  outputs = model(indices)\n",
        "\n",
        "  # Our end to end model\n",
        "  end_to_end_model = tf.keras.Model(inputs, outputs)\n",
        "  end_to_end_model.compile(\n",
        "      loss=\"binary_crossentropy\", optimizer=\"adam\", metrics=[\"accuracy\"]\n",
        "  )\n",
        "  return end_to_end_model"
      ],
      "execution_count": null,
      "outputs": []
    },
    {
      "cell_type": "code",
      "metadata": {
        "id": "sv56HM-KQrjM",
        "outputId": "c01bddc7-2922-4f65-d2d2-6f98559b7482",
        "colab": {
          "base_uri": "https://localhost:8080/",
          "height": 51
        }
      },
      "source": [
        "final_model = create_end_to_end_model()\n",
        "final_model.predict(np.array(['Limited edition Faderade tanks for the kickstarter community only!', \n",
        "                                   'Every one is a winner!']))"
      ],
      "execution_count": null,
      "outputs": [
        {
          "output_type": "execute_result",
          "data": {
            "text/plain": [
              "array([[0.4626604 ],\n",
              "       [0.31900504]], dtype=float32)"
            ]
          },
          "metadata": {
            "tags": []
          },
          "execution_count": 7
        }
      ]
    },
    {
      "cell_type": "code",
      "metadata": {
        "id": "si-7EQPhS9O-",
        "outputId": "e37b4793-b682-4d41-b3fb-c462bef2a78c",
        "colab": {
          "base_uri": "https://localhost:8080/",
          "height": 162
        }
      },
      "source": [
        "from google.colab import drive\n",
        "drive.mount(\"/content/drive\") \n",
        "path = 'drive/My Drive/Lambda/kickstarter/kickstarter.csv'\n",
        "df = pd.read_csv(path, index_col=0)\n",
        "df['binary_state'] = df['state'].apply(lambda state: 0 if state == 'failed' else 1)\n",
        "df.drop(columns = ['state'], inplace=True)\n",
        "print(str(df.blurb[[1]]))\n",
        "df.head(2)"
      ],
      "execution_count": null,
      "outputs": [
        {
          "output_type": "stream",
          "text": [
            "Drive already mounted at /content/drive; to attempt to forcibly remount, call drive.mount(\"/content/drive\", force_remount=True).\n",
            "1    MicroFly is a quadcopter packed with WiFi, 6 s...\n",
            "Name: blurb, dtype: object\n"
          ],
          "name": "stdout"
        },
        {
          "output_type": "execute_result",
          "data": {
            "text/html": [
              "<div>\n",
              "<style scoped>\n",
              "    .dataframe tbody tr th:only-of-type {\n",
              "        vertical-align: middle;\n",
              "    }\n",
              "\n",
              "    .dataframe tbody tr th {\n",
              "        vertical-align: top;\n",
              "    }\n",
              "\n",
              "    .dataframe thead th {\n",
              "        text-align: right;\n",
              "    }\n",
              "</style>\n",
              "<table border=\"1\" class=\"dataframe\">\n",
              "  <thead>\n",
              "    <tr style=\"text-align: right;\">\n",
              "      <th></th>\n",
              "      <th>blurb</th>\n",
              "      <th>binary_state</th>\n",
              "    </tr>\n",
              "  </thead>\n",
              "  <tbody>\n",
              "    <tr>\n",
              "      <th>0</th>\n",
              "      <td>Using their own character, users go on educati...</td>\n",
              "      <td>0</td>\n",
              "    </tr>\n",
              "    <tr>\n",
              "      <th>1</th>\n",
              "      <td>MicroFly is a quadcopter packed with WiFi, 6 s...</td>\n",
              "      <td>1</td>\n",
              "    </tr>\n",
              "  </tbody>\n",
              "</table>\n",
              "</div>"
            ],
            "text/plain": [
              "                                               blurb  binary_state\n",
              "0  Using their own character, users go on educati...             0\n",
              "1  MicroFly is a quadcopter packed with WiFi, 6 s...             1"
            ]
          },
          "metadata": {
            "tags": []
          },
          "execution_count": 8
        }
      ]
    },
    {
      "cell_type": "code",
      "metadata": {
        "id": "g3J0hLdKUE3N"
      },
      "source": [
        "import numpy as np\n",
        "from sklearn.metrics import classification_report, accuracy_score"
      ],
      "execution_count": null,
      "outputs": []
    },
    {
      "cell_type": "code",
      "metadata": {
        "id": "JmVv_d0RTRdi"
      },
      "source": [
        "from sklearn.metrics import classification_report\n",
        "arr = np.array(df.blurb)\n",
        "y_pred = final_model.predict(arr[:int(len(arr) * 0.6)])"
      ],
      "execution_count": null,
      "outputs": []
    },
    {
      "cell_type": "code",
      "metadata": {
        "id": "Kaqs2FZbVBTq",
        "outputId": "44440d11-abab-4f08-b562-dee737c3180c",
        "colab": {
          "base_uri": "https://localhost:8080/",
          "height": 34
        }
      },
      "source": [
        "np.mean(y_pred)"
      ],
      "execution_count": null,
      "outputs": [
        {
          "output_type": "execute_result",
          "data": {
            "text/plain": [
              "0.4453125"
            ]
          },
          "metadata": {
            "tags": []
          },
          "execution_count": 45
        }
      ]
    },
    {
      "cell_type": "code",
      "metadata": {
        "id": "q1QDGlz3VFem",
        "outputId": "0b0f7c2f-97db-408f-a53e-ea24fe6f4fab",
        "colab": {
          "base_uri": "https://localhost:8080/",
          "height": 34
        }
      },
      "source": [
        "np.max(y_pred)"
      ],
      "execution_count": null,
      "outputs": [
        {
          "output_type": "execute_result",
          "data": {
            "text/plain": [
              "0.46393377"
            ]
          },
          "metadata": {
            "tags": []
          },
          "execution_count": 46
        }
      ]
    },
    {
      "cell_type": "code",
      "metadata": {
        "id": "zFCdKnvUVHgH",
        "outputId": "5f4a3fdd-6d26-4cc4-98e5-96c892155522",
        "colab": {
          "base_uri": "https://localhost:8080/",
          "height": 34
        }
      },
      "source": [
        "np.min(y_pred)"
      ],
      "execution_count": null,
      "outputs": [
        {
          "output_type": "execute_result",
          "data": {
            "text/plain": [
              "0.24284366"
            ]
          },
          "metadata": {
            "tags": []
          },
          "execution_count": 47
        }
      ]
    },
    {
      "cell_type": "code",
      "metadata": {
        "id": "1kLacs_fZgpY"
      },
      "source": [
        "MIN = np.min(y_pred)\n",
        "MAX = np.max(y_pred)"
      ],
      "execution_count": null,
      "outputs": []
    },
    {
      "cell_type": "code",
      "metadata": {
        "id": "at8e0KxHbU3c"
      },
      "source": [
        "c = "
      ],
      "execution_count": null,
      "outputs": []
    },
    {
      "cell_type": "code",
      "metadata": {
        "id": "VyIuaTK0V015",
        "outputId": "c71c48e0-3dbc-48a4-e780-4f1e7b5c9bf5",
        "colab": {
          "base_uri": "https://localhost:8080/",
          "height": 68
        }
      },
      "source": [
        "b = (y_pred - MIN)/(MAX - MIN)\n",
        "print(np.max(b))\n",
        "print(np.min(b))\n",
        "print(np.mean(b))"
      ],
      "execution_count": null,
      "outputs": [
        {
          "output_type": "stream",
          "text": [
            "1.0\n",
            "0.0\n",
            "0.9157751\n"
          ],
          "name": "stdout"
        }
      ]
    },
    {
      "cell_type": "code",
      "metadata": {
        "id": "sFJmouMLVSJx",
        "outputId": "a74f21fa-dba8-4838-8487-1a516f07789f",
        "colab": {
          "base_uri": "https://localhost:8080/",
          "height": 34
        }
      },
      "source": [
        "np.median(y_pred)"
      ],
      "execution_count": null,
      "outputs": [
        {
          "output_type": "execute_result",
          "data": {
            "text/plain": [
              "0.4626604"
            ]
          },
          "metadata": {
            "tags": []
          },
          "execution_count": 16
        }
      ]
    },
    {
      "cell_type": "code",
      "metadata": {
        "id": "tG7QQHUoX-Mt",
        "outputId": "cde40957-ad88-4832-bed5-0499397159b7",
        "colab": {
          "base_uri": "https://localhost:8080/",
          "height": 34
        }
      },
      "source": [
        "np.median(b)"
      ],
      "execution_count": null,
      "outputs": [
        {
          "output_type": "execute_result",
          "data": {
            "text/plain": [
              "0.9942405"
            ]
          },
          "metadata": {
            "tags": []
          },
          "execution_count": 31
        }
      ]
    },
    {
      "cell_type": "code",
      "metadata": {
        "id": "KAuRGfsCXK9P"
      },
      "source": [
        "med = np.median(y_pred)"
      ],
      "execution_count": null,
      "outputs": []
    },
    {
      "cell_type": "code",
      "metadata": {
        "id": "ejILqq2PWmwp"
      },
      "source": [
        "np.median(y_pred)"
      ],
      "execution_count": null,
      "outputs": []
    },
    {
      "cell_type": "code",
      "metadata": {
        "id": "LAF4PZyeWpTw"
      },
      "source": [
        "final = [1 if value > med else 0 for value in y_pred]"
      ],
      "execution_count": null,
      "outputs": []
    },
    {
      "cell_type": "code",
      "metadata": {
        "id": "DcyC5u1GXWRD",
        "outputId": "65fae6b4-b334-4e0c-8d86-19b5bbca17d2",
        "colab": {
          "base_uri": "https://localhost:8080/",
          "height": 34
        }
      },
      "source": [
        "set(final)"
      ],
      "execution_count": null,
      "outputs": [
        {
          "output_type": "execute_result",
          "data": {
            "text/plain": [
              "{0, 1}"
            ]
          },
          "metadata": {
            "tags": []
          },
          "execution_count": 22
        }
      ]
    },
    {
      "cell_type": "code",
      "metadata": {
        "id": "B1uW7jjNXnTI"
      },
      "source": [
        "sample = np.array(df.binary_state[:int(len(arr) * 0.6)])"
      ],
      "execution_count": null,
      "outputs": []
    },
    {
      "cell_type": "code",
      "metadata": {
        "id": "McYtOPVGTlRY",
        "outputId": "bbd32d2a-d007-4fa3-d6d9-73013c17a0c2",
        "colab": {
          "base_uri": "https://localhost:8080/",
          "height": 306
        }
      },
      "source": [
        "classification_report(sample, final, output_dict=True)"
      ],
      "execution_count": null,
      "outputs": [
        {
          "output_type": "execute_result",
          "data": {
            "text/plain": [
              "{'0': {'f1-score': 0.5984398951688672,\n",
              "  'precision': 0.5454535211267606,\n",
              "  'recall': 0.6628282717638361,\n",
              "  'support': 73034},\n",
              " '1': {'f1-score': 0.38957793061976176,\n",
              "  'precision': 0.4570729341211747,\n",
              "  'recall': 0.33945179460309144,\n",
              "  'support': 61072},\n",
              " 'accuracy': 0.5155623163765977,\n",
              " 'macro avg': {'f1-score': 0.4940089128943145,\n",
              "  'precision': 0.5012632276239677,\n",
              "  'recall': 0.5011400331834638,\n",
              "  'support': 134106},\n",
              " 'weighted avg': {'f1-score': 0.5033239577839407,\n",
              "  'precision': 0.5052049177115134,\n",
              "  'recall': 0.5155623163765977,\n",
              "  'support': 134106}}"
            ]
          },
          "metadata": {
            "tags": []
          },
          "execution_count": 27
        }
      ]
    },
    {
      "cell_type": "code",
      "metadata": {
        "id": "tXJI2yBcTsFY",
        "outputId": "86bd76ef-85c8-49c9-db7c-ab03e4d975f1",
        "colab": {
          "base_uri": "https://localhost:8080/",
          "height": 34
        }
      },
      "source": [
        "accuracy_score(sample, final)"
      ],
      "execution_count": null,
      "outputs": [
        {
          "output_type": "execute_result",
          "data": {
            "text/plain": [
              "0.5155623163765977"
            ]
          },
          "metadata": {
            "tags": []
          },
          "execution_count": 28
        }
      ]
    },
    {
      "cell_type": "code",
      "metadata": {
        "id": "NnVZbw6HUQ2h"
      },
      "source": [
        "b = (y_pred - np.min(y_pred))/(np.max(y_pred) - np.min(y_pred))"
      ],
      "execution_count": null,
      "outputs": []
    },
    {
      "cell_type": "code",
      "metadata": {
        "id": "gDjyA3U-c6S5",
        "outputId": "ffb6a863-5202-4582-afe8-fa2f3d6617c8",
        "colab": {
          "base_uri": "https://localhost:8080/",
          "height": 119
        }
      },
      "source": [
        "df.blurb[:5]"
      ],
      "execution_count": null,
      "outputs": [
        {
          "output_type": "execute_result",
          "data": {
            "text/plain": [
              "0    Using their own character, users go on educati...\n",
              "1    MicroFly is a quadcopter packed with WiFi, 6 s...\n",
              "2    A small indie press, run as a collective for a...\n",
              "3    Zylor is a new baby cosplayer! Back this kicks...\n",
              "4    Hatoful Boyfriend meet Skeletons! A comedy Dat...\n",
              "Name: blurb, dtype: object"
            ]
          },
          "metadata": {
            "tags": []
          },
          "execution_count": 55
        }
      ]
    },
    {
      "cell_type": "code",
      "metadata": {
        "id": "aizSDQeGc8DM",
        "outputId": "80dd427d-654a-4edf-9554-46775791a960",
        "colab": {
          "base_uri": "https://localhost:8080/",
          "height": 119
        }
      },
      "source": [
        "df.binary_state[:5]"
      ],
      "execution_count": null,
      "outputs": [
        {
          "output_type": "execute_result",
          "data": {
            "text/plain": [
              "0    0\n",
              "1    1\n",
              "2    0\n",
              "3    0\n",
              "4    0\n",
              "Name: binary_state, dtype: int64"
            ]
          },
          "metadata": {
            "tags": []
          },
          "execution_count": 56
        }
      ]
    },
    {
      "cell_type": "code",
      "metadata": {
        "id": "vs-vy6dcY7eW",
        "outputId": "bb6412f2-28e1-445d-c400-0ec7a56dbaaf",
        "colab": {
          "base_uri": "https://localhost:8080/",
          "height": 357
        }
      },
      "source": [
        "from sklearn.neighbors import NearestNeighbors\n",
        "from sklearn.pipeline import Pipeline\n",
        "from sklearn.feature_extraction.text import TfidfTransformer\n",
        "from sklearn.feature_extraction.text import CountVectorizer\n",
        "pipe = Pipeline([\n",
        "                 ('cv', CountVectorizer()),\n",
        "                 ('tfidf', TfidfTransformer()),\n",
        "                 ('nn', NearestNeighbors()),           \n",
        "])\n",
        "pipe.fit(df.blurb, df.binary_state)"
      ],
      "execution_count": null,
      "outputs": [
        {
          "output_type": "execute_result",
          "data": {
            "text/plain": [
              "Pipeline(memory=None,\n",
              "         steps=[('cv',\n",
              "                 CountVectorizer(analyzer='word', binary=False,\n",
              "                                 decode_error='strict',\n",
              "                                 dtype=<class 'numpy.int64'>, encoding='utf-8',\n",
              "                                 input='content', lowercase=True, max_df=1.0,\n",
              "                                 max_features=None, min_df=1,\n",
              "                                 ngram_range=(1, 1), preprocessor=None,\n",
              "                                 stop_words=None, strip_accents=None,\n",
              "                                 token_pattern='(?u)\\\\b\\\\w\\\\w+\\\\b',\n",
              "                                 tokenizer=None, vocabulary=None)),\n",
              "                ('tfidf',\n",
              "                 TfidfTransformer(norm='l2', smooth_idf=True,\n",
              "                                  sublinear_tf=False, use_idf=True)),\n",
              "                ('nn',\n",
              "                 NearestNeighbors(algorithm='auto', leaf_size=30,\n",
              "                                  metric='minkowski', metric_params=None,\n",
              "                                  n_jobs=None, n_neighbors=5, p=2,\n",
              "                                  radius=1.0))],\n",
              "         verbose=False)"
            ]
          },
          "metadata": {
            "tags": []
          },
          "execution_count": 58
        }
      ]
    },
    {
      "cell_type": "code",
      "metadata": {
        "id": "6igJFqqPcdcs"
      },
      "source": [
        "x_t = pipe.named_steps['cv'].transform([df.blurb[0]])\n",
        "x_t_t = pipe.named_steps['tfidf'].transform(x_t)\n",
        "neighbors = pipe.named_steps['nn'].kneighbors(x_t_t, return_distance = False)[0]"
      ],
      "execution_count": null,
      "outputs": []
    },
    {
      "cell_type": "code",
      "metadata": {
        "id": "bm4lUQtDdbgk",
        "outputId": "321cb386-e18d-41e0-fbdc-3f2aae95026d",
        "colab": {
          "base_uri": "https://localhost:8080/",
          "height": 204
        }
      },
      "source": [
        "for row in df.blurb[neighbors]:\n",
        "  print(row)"
      ],
      "execution_count": null,
      "outputs": [
        {
          "output_type": "stream",
          "text": [
            "Using their own character, users go on educational quests around a virtual world leveling up subject-oriented skills (ie Physics).\n",
            "a\n",
            "\n",
            "An open-ended sandbox RPG that combines immersive fiction and procedurally generated worlds.\n",
            "\n",
            "\n",
            "A cooperative boardgame of looting a burning ship for 2-5 players.\n",
            "\n",
            "\n",
            "Thank you to all my backers!! You guys have been incredible! If you missed the funding period, you can pre-order at deadonpaper.com\n",
            "\n"
          ],
          "name": "stdout"
        }
      ]
    },
    {
      "cell_type": "code",
      "metadata": {
        "id": "qPzjBW_AedlK",
        "outputId": "5a1a92ff-bcfd-4d39-d51c-60e2b7494426",
        "colab": {
          "base_uri": "https://localhost:8080/",
          "height": 35
        }
      },
      "source": [
        "df.blurb[0]"
      ],
      "execution_count": null,
      "outputs": [
        {
          "output_type": "execute_result",
          "data": {
            "application/vnd.google.colaboratory.intrinsic+json": {
              "type": "string"
            },
            "text/plain": [
              "'Using their own character, users go on educational quests around a virtual world leveling up subject-oriented skills (ie Physics).'"
            ]
          },
          "metadata": {
            "tags": []
          },
          "execution_count": 73
        }
      ]
    },
    {
      "cell_type": "code",
      "metadata": {
        "id": "j35afiICegLD"
      },
      "source": [
        ""
      ],
      "execution_count": null,
      "outputs": []
    }
  ]
}