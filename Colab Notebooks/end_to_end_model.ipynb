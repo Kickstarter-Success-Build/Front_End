{
  "nbformat": 4,
  "nbformat_minor": 0,
  "metadata": {
    "colab": {
      "name": "end_to_end_model.ipynb",
      "provenance": [],
      "collapsed_sections": []
    },
    "kernelspec": {
      "name": "python3",
      "display_name": "Python 3"
    }
  },
  "cells": [
    {
      "cell_type": "code",
      "metadata": {
        "id": "w5MDPClUl5Nz"
      },
      "source": [
        "import tensorflow as tf\n",
        "from tensorflow import keras\n",
        "from tensorflow.keras.layers.experimental.preprocessing import TextVectorization\n",
        "import string\n",
        "import re\n",
        "from tensorflow.keras import layers"
      ],
      "execution_count": 7,
      "outputs": []
    },
    {
      "cell_type": "code",
      "metadata": {
        "id": "g0LsOeDzl-dh"
      },
      "source": [
        "def create_end_to_end_model(weights_path = 'weights_text.h5'):\n",
        "  '''\n",
        "  Creates a model that accepts text as input and outputs a prediction from 0 to 1\n",
        "  classifying success as a kickstarter\n",
        "\n",
        "  weights_path is the path to the weight set for the inner function: create_model\n",
        "\n",
        "  returns an instantiated tensorflow Model class\n",
        "  '''\n",
        "\n",
        "  max_features = 20000\n",
        "  embedding_dim = 128\n",
        "  sequence_length = 1000\n",
        "  \n",
        "  def create_model(max_features = max_features, embedding_dim = embedding_dim):\n",
        "    '''\n",
        "    Creates a model which was trained on a vectorized list of text and a \n",
        "    corresponding list of numbers as input. Each text line is a 'blurb' from a \n",
        "    kickstarter project describing the purpose of the project and each label is\n",
        "    a 0 or 1, where 0 signifies that the funding goal was not met, and \n",
        "    1 signifies that the goal was met\n",
        "\n",
        "    returns an instantiated tensorflow model class\n",
        "    '''\n",
        "    # A integer input for vocab indices.\n",
        "    inputs = tf.keras.Input(shape=(None,), dtype=\"int64\")\n",
        "\n",
        "    # Next, we add a layer to map those vocab indices into a space of dimensionality\n",
        "    # 'embedding_dim'.\n",
        "    x = layers.Embedding(max_features, embedding_dim)(inputs)\n",
        "    x = layers.Dropout(0.5)(x)\n",
        "\n",
        "    # Conv1D + global max pooling\n",
        "    x = layers.Conv1D(128, 7, padding=\"same\", activation=\"relu\", strides=3)(x)\n",
        "    x = layers.Conv1D(128, 7, padding=\"same\", activation=\"relu\", strides=3)(x)\n",
        "    x = layers.GlobalMaxPooling1D()(x)\n",
        "\n",
        "    # We add a vanilla hidden layer:\n",
        "    x = layers.Dense(128, activation=\"relu\")(x)\n",
        "    x = layers.Dropout(0.5)(x)\n",
        "\n",
        "    # We project onto a single unit output layer, and squash it with a sigmoid:\n",
        "    predictions = layers.Dense(1, activation=\"sigmoid\", name=\"predictions\")(x)\n",
        "\n",
        "    model = tf.keras.Model(inputs, predictions)\n",
        "\n",
        "    # Compile the model with binary crossentropy loss and an adam optimizer.\n",
        "    model.compile(loss=\"binary_crossentropy\", optimizer=\"adam\", metrics=[\"accuracy\"])\n",
        "    return model\n",
        "\n",
        "  def custom_standardization(input_data):\n",
        "    lowercase = tf.strings.lower(input_data)\n",
        "    return tf.strings.regex_replace(\n",
        "        lowercase, \"[%s]\" % re.escape(string.punctuation), \"\"\n",
        "    )\n",
        "\n",
        "  model = create_model()\n",
        "  model.load_weights(weights_path)\n",
        "\n",
        "  inputs = tf.keras.Input(shape=(1,), dtype=\"string\")\n",
        "  # Turn strings into vocab indices\n",
        "  vectorize_layer = TextVectorization(\n",
        "    standardize=custom_standardization,\n",
        "    max_tokens=max_features,\n",
        "    output_mode=\"int\",\n",
        "    output_sequence_length=sequence_length,\n",
        "  )\n",
        "  indices = vectorize_layer(inputs)\n",
        "  # Turn vocab indices into predictions\n",
        "  outputs = model(indices)\n",
        "\n",
        "  # Our end to end model\n",
        "  end_to_end_model = tf.keras.Model(inputs, outputs)\n",
        "  end_to_end_model.compile(\n",
        "      loss=\"binary_crossentropy\", optimizer=\"adam\", metrics=[\"accuracy\"]\n",
        "  )\n",
        "  return end_to_end_model"
      ],
      "execution_count": 8,
      "outputs": []
    },
    {
      "cell_type": "code",
      "metadata": {
        "id": "iUMN_xnxnc6x",
        "outputId": "ed9f2bb5-3164-41ce-d99a-32e364944c77",
        "colab": {
          "base_uri": "https://localhost:8080/",
          "height": 51
        }
      },
      "source": [
        "final_model = create_end_to_end_model()\n",
        "final_model.predict(['Limited edition Faderade tanks for the kickstarter community only!', \n",
        "                                   'Every one is a winner!'])"
      ],
      "execution_count": 9,
      "outputs": [
        {
          "output_type": "execute_result",
          "data": {
            "text/plain": [
              "array([[0.38387513],\n",
              "       [0.42040607]], dtype=float32)"
            ]
          },
          "metadata": {
            "tags": []
          },
          "execution_count": 9
        }
      ]
    },
    {
      "cell_type": "code",
      "metadata": {
        "id": "eIHu0vIzG5qb",
        "outputId": "33748640-cd43-468c-c5dc-002212406c00",
        "colab": {
          "base_uri": "https://localhost:8080/",
          "height": 156
        }
      },
      "source": [
        "final_model.save('model')"
      ],
      "execution_count": 10,
      "outputs": [
        {
          "output_type": "stream",
          "text": [
            "WARNING:tensorflow:From /usr/local/lib/python3.6/dist-packages/tensorflow/python/training/tracking/tracking.py:111: Model.state_updates (from tensorflow.python.keras.engine.training) is deprecated and will be removed in a future version.\n",
            "Instructions for updating:\n",
            "This property should not be used in TensorFlow 2.0, as updates are applied automatically.\n",
            "WARNING:tensorflow:From /usr/local/lib/python3.6/dist-packages/tensorflow/python/training/tracking/tracking.py:111: Layer.updates (from tensorflow.python.keras.engine.base_layer) is deprecated and will be removed in a future version.\n",
            "Instructions for updating:\n",
            "This property should not be used in TensorFlow 2.0, as updates are applied automatically.\n",
            "INFO:tensorflow:Assets written to: model/assets\n"
          ],
          "name": "stdout"
        }
      ]
    }
  ]
}